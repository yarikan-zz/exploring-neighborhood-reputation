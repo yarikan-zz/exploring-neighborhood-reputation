{
 "cells": [
  {
   "cell_type": "markdown",
   "metadata": {},
   "source": [
    "# Public Sentiments & Chicago's Neighborhoods :: \n",
    "<h3>Final project for PPHA 30530 Computation for Public Policy</h3>\n",
    "\n",
    "Exploring tweet sentiments regarding Chicago neighborhoods, and any correlations with Chicago's socioeconomic and crime data. The results will be shown in plots and on maps."
   ]
  },
  {
   "cell_type": "code",
   "execution_count": 1,
   "metadata": {
    "collapsed": false
   },
   "outputs": [],
   "source": [
    "import tweepy\n",
    "import time\n",
    "import pandas as pd"
   ]
  },
  {
   "cell_type": "code",
   "execution_count": 2,
   "metadata": {
    "collapsed": true
   },
   "outputs": [],
   "source": [
    "import vaderSentiment  # THIS imports successfully, \n",
    "# but what matters is that I need the sentiment function defined in vaderSentiment to work towards the bottom of \n",
    "# this notebook. Using simply this import line doesn't do the trick."
   ]
  },
  {
   "cell_type": "code",
   "execution_count": 4,
   "metadata": {
    "collapsed": false
   },
   "outputs": [
    {
     "ename": "ImportError",
     "evalue": "cannot import name 'sentiment'",
     "output_type": "error",
     "traceback": [
      "\u001b[0;31m---------------------------------------------------------------------------\u001b[0m",
      "\u001b[0;31mImportError\u001b[0m                               Traceback (most recent call last)",
      "\u001b[0;32m<ipython-input-4-6ed4bb5b5479>\u001b[0m in \u001b[0;36m<module>\u001b[0;34m()\u001b[0m\n\u001b[1;32m      1\u001b[0m \u001b[0;31m# import vaderSentiment\u001b[0m\u001b[0;34m\u001b[0m\u001b[0;34m\u001b[0m\u001b[0m\n\u001b[0;32m----> 2\u001b[0;31m \u001b[0;32mfrom\u001b[0m \u001b[0mvaderSentiment\u001b[0m \u001b[0;32mimport\u001b[0m \u001b[0msentiment\u001b[0m \u001b[0;32mas\u001b[0m \u001b[0mvaderSentiment\u001b[0m\u001b[0;34m\u001b[0m\u001b[0m\n\u001b[0m",
      "\u001b[0;31mImportError\u001b[0m: cannot import name 'sentiment'"
     ]
    }
   ],
   "source": [
    "from vaderSentiment import sentiment as vaderSentiment  \n",
    "# This is the original suggested import line according to the package \n",
    "# But THIS gives me a \"ImportError: cannot import name 'sentiment'\""
   ]
  },
  {
   "cell_type": "code",
   "execution_count": 8,
   "metadata": {
    "collapsed": false
   },
   "outputs": [
    {
     "ename": "SyntaxError",
     "evalue": "invalid syntax (vaderSentiment.py, line 23)",
     "output_type": "error",
     "traceback": [
      "\u001b[0;36m  File \u001b[0;32m\"/Users/Yarikan/anaconda/lib/python3.5/site-packages/vaderSentiment/vaderSentiment.py\"\u001b[0;36m, line \u001b[0;32m23\u001b[0m\n\u001b[0;31m    return dict(map(lambda (w, m): (w, float(m)), [wmsr.strip().split('\\t')[0:2] for wmsr in open(f) ]))\u001b[0m\n\u001b[0m                           ^\u001b[0m\n\u001b[0;31mSyntaxError\u001b[0m\u001b[0;31m:\u001b[0m invalid syntax\n"
     ]
    }
   ],
   "source": [
    "from vaderSentiment.vaderSentiment import sentiment as vaderSentiment \n",
    "# offered as an alternative depending on install approach\n",
    "# but THIS one also gives me an error (\"SyntaxError: invalid syntax\")"
   ]
  },
  {
   "cell_type": "markdown",
   "metadata": {},
   "source": [
    "# Step 1: Get the data\n",
    "\n",
    "Downloading, cleaning up, and storing Twitter data in a csv file. "
   ]
  },
  {
   "cell_type": "code",
   "execution_count": 2,
   "metadata": {
    "collapsed": false
   },
   "outputs": [],
   "source": [
    "# These four codes constitute your authorization to extract data from Twitter\n",
    "consumer_token = 'qZMmvxcPLfwCixedks1m3jXGg'\n",
    "consumer_secret = 'UFFyLdOlePodkPYvR6NR64N0SVinVsPezNb1IKg1hNXl06jy67'\n",
    "access_token = '2382930698-0eCycGIeqv4SUmOvSINQbkhnb2v9hTPDlSpcb8q'\n",
    "access_token_secret = 'eTmMeL9pj7pcxoupFDqDuNmzWSXUn8UQWrYeYAcKu8xyR'\n",
    "\n",
    "# OAuth process, using the keys and tokens\n",
    "auth = tweepy.OAuthHandler(consumer_token, consumer_secret)\n",
    "auth.set_access_token(access_token, access_token_secret)\n",
    "\n",
    "# Creation of the actual interface, using authentication\n",
    "# api = tweepy.API(auth)\n",
    "api = tweepy.API(auth, wait_on_rate_limit=True, wait_on_rate_limit_notify=True)"
   ]
  },
  {
   "cell_type": "code",
   "execution_count": 3,
   "metadata": {
    "collapsed": false
   },
   "outputs": [
    {
     "data": {
      "text/plain": [
       "{'rate_limit_context': {'access_token': '2382930698-0eCycGIeqv4SUmOvSINQbkhnb2v9hTPDlSpcb8q'},\n",
       " 'resources': {'search': {'/search/tweets': {'limit': 180,\n",
       "    'remaining': 180,\n",
       "    'reset': 1457793990}}}}"
      ]
     },
     "execution_count": 3,
     "metadata": {},
     "output_type": "execute_result"
    }
   ],
   "source": [
    "api.rate_limit_status('search')  # checks the status of my search request limit"
   ]
  },
  {
   "cell_type": "markdown",
   "metadata": {
    "collapsed": true
   },
   "source": [
    "<h3> Creating datasets of differing scopes: </h3>"
   ]
  },
  {
   "cell_type": "markdown",
   "metadata": {
    "collapsed": false
   },
   "source": [
    "<h5>Dataset 1:</h5>\n",
    "    \n",
    "    list of tweets within last 6-9 days\n",
    "        NOTE: limit set by Twitter, not me, see https://dev.twitter.com/rest/public/search\n",
    "    \n",
    "    tweet mentions \"englewood\" AND \"chicago\"\n",
    "        NOTE: There are two Community Areas inside Chicago with \"Englewood\" in the name. Thank goodness they're \n",
    "        adjacent to each other, so I assume that the unintended ambiguity won't significantly shift the analytical \n",
    "        results.  \n",
    "    \n",
    "    tweet originates within 15 miles of Chicago, IL\n",
    "    \n",
    "    tweet is in English"
   ]
  },
  {
   "cell_type": "code",
   "execution_count": 32,
   "metadata": {
    "collapsed": false
   },
   "outputs": [],
   "source": [
    "community_area_name1 = []\n",
    "date_time1 = []\n",
    "coordinates1 = []\n",
    "num_retweet1 = []\n",
    "num_liked1 = []\n",
    "tweet_content1 = []\n",
    "    \n",
    "for tweet in tweepy.Cursor(api.search, \n",
    "                           q = \"englewood\",\n",
    "                           geocode = \"41.836944,-87.684722,15mi\", \n",
    "                           lang = \"en\").items():\n",
    "    community_area_name1.append('englewood')\n",
    "    date_time1.append(tweet.created_at)\n",
    "    coordinates1.append(tweet.coordinates)\n",
    "    num_retweet1.append(tweet.retweet_count)\n",
    "    num_liked1.append(tweet.favorite_count)\n",
    "    tweet_content1.append(tweet.text)\n",
    "\n",
    "dataset1 = pd.DataFrame({\n",
    "        \"Community Area Mentioned\": community_area_name1,\n",
    "        \"Day and Time\": date_time1,\n",
    "        \"Coordinates\": coordinates1,\n",
    "        \"Number of Times Retweeted\": num_retweet1,\n",
    "        \"Number of Times Liked\": num_liked1,\n",
    "        \"Tweet Content\": tweet_content1})"
   ]
  },
  {
   "cell_type": "code",
   "execution_count": 33,
   "metadata": {
    "collapsed": false
   },
   "outputs": [
    {
     "data": {
      "text/plain": [
       "(19, 6)"
      ]
     },
     "execution_count": 33,
     "metadata": {},
     "output_type": "execute_result"
    }
   ],
   "source": [
    "dataset1.shape  # includes 1 count for row with headers"
   ]
  },
  {
   "cell_type": "code",
   "execution_count": 34,
   "metadata": {
    "collapsed": false
   },
   "outputs": [
    {
     "data": {
      "text/plain": [
       "{'coordinates': [-87.66115998, 41.78729154], 'type': 'Point'}"
      ]
     },
     "execution_count": 34,
     "metadata": {},
     "output_type": "execute_result"
    }
   ],
   "source": [
    "dataset1['Coordinates'][0]"
   ]
  },
  {
   "cell_type": "code",
   "execution_count": 35,
   "metadata": {
    "collapsed": false
   },
   "outputs": [
    {
     "name": "stdout",
     "output_type": "stream",
     "text": [
      "<class 'dict'>\n"
     ]
    }
   ],
   "source": [
    "print(type(dataset1['Coordinates'][0]))"
   ]
  },
  {
   "cell_type": "code",
   "execution_count": 24,
   "metadata": {
    "collapsed": false
   },
   "outputs": [],
   "source": [
    "# convert coordinates column, currently a dictionary, into string only\n",
    "dataset1['Coordinates'] = dataset1['Coordinates'].apply(str)"
   ]
  },
  {
   "cell_type": "code",
   "execution_count": 25,
   "metadata": {
    "collapsed": false
   },
   "outputs": [
    {
     "name": "stdout",
     "output_type": "stream",
     "text": [
      "<class 'str'>\n"
     ]
    }
   ],
   "source": [
    "print(type(dataset1['Coordinates'][0]))"
   ]
  },
  {
   "cell_type": "code",
   "execution_count": 29,
   "metadata": {
    "collapsed": true
   },
   "outputs": [],
   "source": [
    "dataset1.to_csv('dataset1.csv')"
   ]
  },
  {
   "cell_type": "markdown",
   "metadata": {},
   "source": [
    "<h5>Dataset 2:</h5>\n",
    "    \n",
    "    list of tweets within last 6-9 days\n",
    "    tweet mentions \"englewood\" AND \"chicago\"\n",
    "    tweet originates from ANYWHERE\n",
    "    tweet is in English"
   ]
  },
  {
   "cell_type": "code",
   "execution_count": 36,
   "metadata": {
    "collapsed": false
   },
   "outputs": [],
   "source": [
    "community_area_name2 = []\n",
    "date_time2 = []\n",
    "coordinates2 = []\n",
    "num_retweet2 = []\n",
    "num_liked2 = []\n",
    "tweet_content2 = []\n",
    "\n",
    "for tweet in tweepy.Cursor(api.search,\n",
    "                           q = [\"englewood\", \"chicago\"],\n",
    "                           lang = \"en\").items():\n",
    "    community_area_name2.append('englewood')\n",
    "    date_time2.append(tweet.created_at)\n",
    "    coordinates2.append(tweet.coordinates)\n",
    "    num_retweet2.append(tweet.retweet_count)\n",
    "    num_liked2.append(tweet.favorite_count)\n",
    "    tweet_content2.append(tweet.text)\n",
    "    \n",
    "dataset2 = pd.DataFrame({\n",
    "        \"Community Area Mentioned\": community_area_name2,\n",
    "        \"Day and Time\": date_time2,\n",
    "        \"Coordinates\": coordinates2,\n",
    "        \"Number of Times Retweeted\": num_retweet2,\n",
    "        \"Number of Times Liked\": num_liked2,\n",
    "        \"Tweet Content\": tweet_content2})"
   ]
  },
  {
   "cell_type": "code",
   "execution_count": 37,
   "metadata": {
    "collapsed": false
   },
   "outputs": [
    {
     "data": {
      "text/plain": [
       "(416, 6)"
      ]
     },
     "execution_count": 37,
     "metadata": {},
     "output_type": "execute_result"
    }
   ],
   "source": [
    "dataset2.shape # includes 1 count for row with headers"
   ]
  },
  {
   "cell_type": "code",
   "execution_count": 38,
   "metadata": {
    "collapsed": true
   },
   "outputs": [],
   "source": [
    "# convert coordinates column, currently a dictionary, into string only\n",
    "dataset2['Coordinates'] = dataset2['Coordinates'].apply(str)"
   ]
  },
  {
   "cell_type": "code",
   "execution_count": 39,
   "metadata": {
    "collapsed": true
   },
   "outputs": [],
   "source": [
    "dataset2.to_csv('dataset2.csv')"
   ]
  },
  {
   "cell_type": "markdown",
   "metadata": {},
   "source": [
    "<h5>Dataset 3:</h5>\n",
    "    \n",
    "    list of tweets within last 6-9 days\n",
    "    tweet mentions the name of one of 77 community areas\n",
    "    tweet originates within 15 miles of Chicago, IL\n",
    "    tweet is in English"
   ]
  },
  {
   "cell_type": "code",
   "execution_count": 150,
   "metadata": {
    "collapsed": false
   },
   "outputs": [],
   "source": [
    "# for list of community area names, import csv file\n",
    "df_SES = pd.read_csv('https://raw.githubusercontent.com/yarikan/final_project_in_progress/master/Census_Data_-_Selected_socioeconomic_indicators_in_Chicago__2008___2012.csv?token=AQAvwKru9f-jT5DdlHHIx3sA0zKfj9cFks5W6IcxwA%3D%3D')\n",
    "SES = df_SES.dropna()\n",
    "# SES\n",
    "# SES.columns\n",
    "# SES['COMMUNITY AREA NAME']"
   ]
  },
  {
   "cell_type": "code",
   "execution_count": 152,
   "metadata": {
    "collapsed": false
   },
   "outputs": [],
   "source": [
    "community_area_name3 = []\n",
    "date_time3 = []\n",
    "coordinates3 = []\n",
    "num_retweet3 = []\n",
    "num_liked3 = []\n",
    "tweet_content3 = []\n",
    "\n",
    "for name in SES['COMMUNITY AREA NAME']:\n",
    "    time.sleep(11)\n",
    "    name.lower()\n",
    "    for tweet in tweepy.Cursor(api.search,\n",
    "                               q = name.lower(),\n",
    "                               geocode = \"41.836944,-87.684722,15mi\",\n",
    "                               lang = \"en\").items():\n",
    "        community_area_name3.append(name.lower())\n",
    "        date_time3.append(tweet.created_at)\n",
    "        coordinates3.append(tweet.coordinates)\n",
    "        num_retweet3.append(tweet.retweet_count)\n",
    "        num_liked3.append(tweet.favorite_count)\n",
    "        tweet_content3.append(tweet.text)\n",
    "\n",
    "dataset3 = pd.DataFrame({\n",
    "        \"Community Area Mentioned\": community_area_name3,\n",
    "        \"Day and Time\": date_time3,\n",
    "        \"Coordinates\": coordinates3,\n",
    "        \"Number of Times Retweeted\": num_retweet3,\n",
    "        \"Number of Times Liked\": num_liked3,\n",
    "        \"Tweet Content\": tweet_content3})"
   ]
  },
  {
   "cell_type": "code",
   "execution_count": 153,
   "metadata": {
    "collapsed": false
   },
   "outputs": [
    {
     "data": {
      "text/plain": [
       "(1589, 6)"
      ]
     },
     "execution_count": 153,
     "metadata": {},
     "output_type": "execute_result"
    }
   ],
   "source": [
    "dataset3.shape  # includes 1 count for row with headers"
   ]
  },
  {
   "cell_type": "code",
   "execution_count": 154,
   "metadata": {
    "collapsed": false
   },
   "outputs": [
    {
     "data": {
      "text/html": [
       "<div>\n",
       "<table border=\"1\" class=\"dataframe\">\n",
       "  <thead>\n",
       "    <tr style=\"text-align: right;\">\n",
       "      <th></th>\n",
       "      <th>Community Area Mentioned</th>\n",
       "      <th>Coordinates</th>\n",
       "      <th>Day and Time</th>\n",
       "      <th>Number of Times Liked</th>\n",
       "      <th>Number of Times Retweeted</th>\n",
       "      <th>Tweet Content</th>\n",
       "    </tr>\n",
       "  </thead>\n",
       "  <tbody>\n",
       "    <tr>\n",
       "      <th>0</th>\n",
       "      <td>rogers park</td>\n",
       "      <td>{'coordinates': [-87.6662979, 42.0074272], 'ty...</td>\n",
       "      <td>2016-03-12 01:02:57</td>\n",
       "      <td>0</td>\n",
       "      <td>0</td>\n",
       "      <td>Hey, Donnie. Heard you bailed on your own part...</td>\n",
       "    </tr>\n",
       "    <tr>\n",
       "      <th>1</th>\n",
       "      <td>rogers park</td>\n",
       "      <td>{'coordinates': [-87.67733976, 42.01507579], '...</td>\n",
       "      <td>2016-03-12 00:41:15</td>\n",
       "      <td>1</td>\n",
       "      <td>0</td>\n",
       "      <td>Day 11 First Lady Friday: Go Michelle! #DePaul...</td>\n",
       "    </tr>\n",
       "  </tbody>\n",
       "</table>\n",
       "</div>"
      ],
      "text/plain": [
       "  Community Area Mentioned                                        Coordinates  \\\n",
       "0              rogers park  {'coordinates': [-87.6662979, 42.0074272], 'ty...   \n",
       "1              rogers park  {'coordinates': [-87.67733976, 42.01507579], '...   \n",
       "\n",
       "         Day and Time  Number of Times Liked  Number of Times Retweeted  \\\n",
       "0 2016-03-12 01:02:57                      0                          0   \n",
       "1 2016-03-12 00:41:15                      1                          0   \n",
       "\n",
       "                                       Tweet Content  \n",
       "0  Hey, Donnie. Heard you bailed on your own part...  \n",
       "1  Day 11 First Lady Friday: Go Michelle! #DePaul...  "
      ]
     },
     "execution_count": 154,
     "metadata": {},
     "output_type": "execute_result"
    }
   ],
   "source": [
    "dataset3.head(2)"
   ]
  },
  {
   "cell_type": "code",
   "execution_count": 155,
   "metadata": {
    "collapsed": true
   },
   "outputs": [],
   "source": [
    "# convert coordinates column, currently a dictionary, into string only\n",
    "dataset3['Coordinates'] = dataset3['Coordinates'].apply(str)"
   ]
  },
  {
   "cell_type": "code",
   "execution_count": 156,
   "metadata": {
    "collapsed": true
   },
   "outputs": [],
   "source": [
    "dataset3.to_csv('dataset3.csv')"
   ]
  },
  {
   "cell_type": "markdown",
   "metadata": {},
   "source": [
    "<h3> Clean up datasets before proceeding to do sentiment analysis: </h3>"
   ]
  },
  {
   "cell_type": "code",
   "execution_count": 157,
   "metadata": {
    "collapsed": true
   },
   "outputs": [],
   "source": [
    "df1 = pd.read_csv('https://raw.githubusercontent.com/yarikan/final_project_in_progress/master/dataset1.csv?token=AQAvwMuX-qLmupa78p6_y3nhkWwqrjEOks5W7FZtwA%3D%3D')\n",
    "df2 = pd.read_csv('https://raw.githubusercontent.com/yarikan/final_project_in_progress/master/dataset2.csv?token=AQAvwNC_wzbUUy0gbnpHm48odETa7Cdiks5W7FaCwA%3D%3D')\n",
    "df3 = pd.read_csv('https://raw.githubusercontent.com/yarikan/final_project_in_progress/master/dataset3.csv?token=AQAvwJm8_ighu4wZm6POFm3kil4QlNG5ks5W7FarwA%3D%3D')"
   ]
  },
  {
   "cell_type": "markdown",
   "metadata": {},
   "source": [
    "<h4> Dataset 1: </h4>"
   ]
  },
  {
   "cell_type": "code",
   "execution_count": 111,
   "metadata": {
    "collapsed": false
   },
   "outputs": [
    {
     "data": {
      "text/plain": [
       "(19, 7)"
      ]
     },
     "execution_count": 111,
     "metadata": {},
     "output_type": "execute_result"
    }
   ],
   "source": [
    "df1.shape"
   ]
  },
  {
   "cell_type": "code",
   "execution_count": 112,
   "metadata": {
    "collapsed": false,
    "scrolled": true
   },
   "outputs": [
    {
     "data": {
      "text/html": [
       "<div>\n",
       "<table border=\"1\" class=\"dataframe\">\n",
       "  <thead>\n",
       "    <tr style=\"text-align: right;\">\n",
       "      <th></th>\n",
       "      <th>Unnamed: 0</th>\n",
       "      <th>Community Area Mentioned</th>\n",
       "      <th>Coordinates</th>\n",
       "      <th>Day and Time</th>\n",
       "      <th>Number of Times Liked</th>\n",
       "      <th>Number of Times Retweeted</th>\n",
       "      <th>Tweet Content</th>\n",
       "    </tr>\n",
       "  </thead>\n",
       "  <tbody>\n",
       "    <tr>\n",
       "      <th>0</th>\n",
       "      <td>0</td>\n",
       "      <td>englewood</td>\n",
       "      <td>{'coordinates': [-87.66115998, 41.78729154], '...</td>\n",
       "      <td>2016-03-12 06:44:37</td>\n",
       "      <td>0</td>\n",
       "      <td>0</td>\n",
       "      <td>😎 @ Chicago (Englewood neighborhood), Illinois...</td>\n",
       "    </tr>\n",
       "    <tr>\n",
       "      <th>1</th>\n",
       "      <td>1</td>\n",
       "      <td>englewood</td>\n",
       "      <td>{'coordinates': [-87.64513733, 41.79094389], '...</td>\n",
       "      <td>2016-03-11 21:44:27</td>\n",
       "      <td>0</td>\n",
       "      <td>0</td>\n",
       "      <td>🃏🃏🃏 #watchthekid @ Streets Of Englewood https:...</td>\n",
       "    </tr>\n",
       "  </tbody>\n",
       "</table>\n",
       "</div>"
      ],
      "text/plain": [
       "   Unnamed: 0 Community Area Mentioned  \\\n",
       "0           0                englewood   \n",
       "1           1                englewood   \n",
       "\n",
       "                                         Coordinates         Day and Time  \\\n",
       "0  {'coordinates': [-87.66115998, 41.78729154], '...  2016-03-12 06:44:37   \n",
       "1  {'coordinates': [-87.64513733, 41.79094389], '...  2016-03-11 21:44:27   \n",
       "\n",
       "   Number of Times Liked  Number of Times Retweeted  \\\n",
       "0                      0                          0   \n",
       "1                      0                          0   \n",
       "\n",
       "                                       Tweet Content  \n",
       "0  😎 @ Chicago (Englewood neighborhood), Illinois...  \n",
       "1  🃏🃏🃏 #watchthekid @ Streets Of Englewood https:...  "
      ]
     },
     "execution_count": 112,
     "metadata": {},
     "output_type": "execute_result"
    }
   ],
   "source": [
    "df1.head(2)"
   ]
  },
  {
   "cell_type": "code",
   "execution_count": 113,
   "metadata": {
    "collapsed": false,
    "scrolled": true
   },
   "outputs": [
    {
     "data": {
      "text/plain": [
       "\"{'coordinates': [-87.66115998, 41.78729154], 'type': 'Point'}\""
      ]
     },
     "execution_count": 113,
     "metadata": {},
     "output_type": "execute_result"
    }
   ],
   "source": [
    "df1['Coordinates'][0]"
   ]
  },
  {
   "cell_type": "code",
   "execution_count": 114,
   "metadata": {
    "collapsed": false
   },
   "outputs": [],
   "source": [
    "# clean up coordinates column by extracting latitude and longitude:\n",
    "\n",
    "cut_left = df1['Coordinates'].str.split('[').apply(pd.Series)\n",
    "cut_left = cut_left[1]\n",
    "# cut_left[0]\n",
    "\n",
    "cut_right = cut_left.str.split(']').apply(pd.Series)\n",
    "cut_right = cut_right[0]\n",
    "# cut_right[0]\n",
    "\n",
    "split_in2 = cut_right.str.split(',').apply(pd.Series)\n",
    "#split_in2.columns\n",
    "\n",
    "latitude = split_in2[0].apply(float)\n",
    "longitude = split_in2[1].apply(float)\n",
    "\n",
    "df1['Tweet Latitude'] = latitude\n",
    "df1['Tweet Longitude'] = longitude"
   ]
  },
  {
   "cell_type": "code",
   "execution_count": 115,
   "metadata": {
    "collapsed": false
   },
   "outputs": [
    {
     "data": {
      "text/plain": [
       "Timestamp('2016-03-12 06:44:37')"
      ]
     },
     "execution_count": 115,
     "metadata": {},
     "output_type": "execute_result"
    }
   ],
   "source": [
    "# convert Day and Time column (currently string) into datetime\n",
    "df1['Day and Time']= pd.to_datetime(df1['Day and Time'])\n",
    "\n",
    "# print(type(df1['Day and Time'][0]))\n",
    "df1['Day and Time'][0]"
   ]
  },
  {
   "cell_type": "code",
   "execution_count": 116,
   "metadata": {
    "collapsed": false
   },
   "outputs": [],
   "source": [
    "del df1['Coordinates']\n",
    "del df1['Unnamed: 0']"
   ]
  },
  {
   "cell_type": "code",
   "execution_count": 118,
   "metadata": {
    "collapsed": false
   },
   "outputs": [
    {
     "data": {
      "text/plain": [
       "(19, 7)"
      ]
     },
     "execution_count": 118,
     "metadata": {},
     "output_type": "execute_result"
    }
   ],
   "source": [
    "df1.shape"
   ]
  },
  {
   "cell_type": "code",
   "execution_count": 117,
   "metadata": {
    "collapsed": false
   },
   "outputs": [
    {
     "data": {
      "text/html": [
       "<div>\n",
       "<table border=\"1\" class=\"dataframe\">\n",
       "  <thead>\n",
       "    <tr style=\"text-align: right;\">\n",
       "      <th></th>\n",
       "      <th>Community Area Mentioned</th>\n",
       "      <th>Day and Time</th>\n",
       "      <th>Number of Times Liked</th>\n",
       "      <th>Number of Times Retweeted</th>\n",
       "      <th>Tweet Content</th>\n",
       "      <th>Tweet Latitude</th>\n",
       "      <th>Tweet Longitude</th>\n",
       "    </tr>\n",
       "  </thead>\n",
       "  <tbody>\n",
       "    <tr>\n",
       "      <th>0</th>\n",
       "      <td>englewood</td>\n",
       "      <td>2016-03-12 06:44:37</td>\n",
       "      <td>0</td>\n",
       "      <td>0</td>\n",
       "      <td>😎 @ Chicago (Englewood neighborhood), Illinois...</td>\n",
       "      <td>-87.661160</td>\n",
       "      <td>41.787292</td>\n",
       "    </tr>\n",
       "    <tr>\n",
       "      <th>1</th>\n",
       "      <td>englewood</td>\n",
       "      <td>2016-03-11 21:44:27</td>\n",
       "      <td>0</td>\n",
       "      <td>0</td>\n",
       "      <td>🃏🃏🃏 #watchthekid @ Streets Of Englewood https:...</td>\n",
       "      <td>-87.645137</td>\n",
       "      <td>41.790944</td>\n",
       "    </tr>\n",
       "  </tbody>\n",
       "</table>\n",
       "</div>"
      ],
      "text/plain": [
       "  Community Area Mentioned        Day and Time  Number of Times Liked  \\\n",
       "0                englewood 2016-03-12 06:44:37                      0   \n",
       "1                englewood 2016-03-11 21:44:27                      0   \n",
       "\n",
       "   Number of Times Retweeted  \\\n",
       "0                          0   \n",
       "1                          0   \n",
       "\n",
       "                                       Tweet Content  Tweet Latitude  \\\n",
       "0  😎 @ Chicago (Englewood neighborhood), Illinois...      -87.661160   \n",
       "1  🃏🃏🃏 #watchthekid @ Streets Of Englewood https:...      -87.645137   \n",
       "\n",
       "   Tweet Longitude  \n",
       "0        41.787292  \n",
       "1        41.790944  "
      ]
     },
     "execution_count": 117,
     "metadata": {},
     "output_type": "execute_result"
    }
   ],
   "source": [
    "df1.head(2)"
   ]
  },
  {
   "cell_type": "code",
   "execution_count": 119,
   "metadata": {
    "collapsed": false
   },
   "outputs": [],
   "source": [
    "df1.to_csv('df1_cleaned.csv')"
   ]
  },
  {
   "cell_type": "markdown",
   "metadata": {},
   "source": [
    "<h4> Dataset 2: </h4>"
   ]
  },
  {
   "cell_type": "code",
   "execution_count": 120,
   "metadata": {
    "collapsed": false
   },
   "outputs": [
    {
     "data": {
      "text/plain": [
       "(417, 7)"
      ]
     },
     "execution_count": 120,
     "metadata": {},
     "output_type": "execute_result"
    }
   ],
   "source": [
    "df2.shape"
   ]
  },
  {
   "cell_type": "code",
   "execution_count": 121,
   "metadata": {
    "collapsed": false
   },
   "outputs": [
    {
     "data": {
      "text/html": [
       "<div>\n",
       "<table border=\"1\" class=\"dataframe\">\n",
       "  <thead>\n",
       "    <tr style=\"text-align: right;\">\n",
       "      <th></th>\n",
       "      <th>Unnamed: 0</th>\n",
       "      <th>Community Area Mentioned</th>\n",
       "      <th>Coordinates</th>\n",
       "      <th>Day and Time</th>\n",
       "      <th>Number of Times Liked</th>\n",
       "      <th>Number of Times Retweeted</th>\n",
       "      <th>Tweet Content</th>\n",
       "    </tr>\n",
       "  </thead>\n",
       "  <tbody>\n",
       "    <tr>\n",
       "      <th>0</th>\n",
       "      <td>0</td>\n",
       "      <td>englewood</td>\n",
       "      <td>None</td>\n",
       "      <td>2016-03-12 14:21:01</td>\n",
       "      <td>0</td>\n",
       "      <td>0</td>\n",
       "      <td>Chicago (IL) WLS: 1 dead, 1 critical after pol...</td>\n",
       "    </tr>\n",
       "    <tr>\n",
       "      <th>1</th>\n",
       "      <td>1</td>\n",
       "      <td>englewood</td>\n",
       "      <td>None</td>\n",
       "      <td>2016-03-12 14:16:23</td>\n",
       "      <td>0</td>\n",
       "      <td>0</td>\n",
       "      <td>@realDonaldTrump too bad #Chicago treated you ...</td>\n",
       "    </tr>\n",
       "  </tbody>\n",
       "</table>\n",
       "</div>"
      ],
      "text/plain": [
       "  Unnamed: 0 Community Area Mentioned Coordinates         Day and Time  \\\n",
       "0          0                englewood        None  2016-03-12 14:21:01   \n",
       "1          1                englewood        None  2016-03-12 14:16:23   \n",
       "\n",
       "   Number of Times Liked  Number of Times Retweeted  \\\n",
       "0                      0                          0   \n",
       "1                      0                          0   \n",
       "\n",
       "                                       Tweet Content  \n",
       "0  Chicago (IL) WLS: 1 dead, 1 critical after pol...  \n",
       "1  @realDonaldTrump too bad #Chicago treated you ...  "
      ]
     },
     "execution_count": 121,
     "metadata": {},
     "output_type": "execute_result"
    }
   ],
   "source": [
    "df2.head(2)"
   ]
  },
  {
   "cell_type": "code",
   "execution_count": 122,
   "metadata": {
    "collapsed": true
   },
   "outputs": [],
   "source": [
    "# clean up coordinates column by extracting latitude and longitude:\n",
    "\n",
    "cut_left = df2['Coordinates'].str.split('[').apply(pd.Series)\n",
    "cut_left = cut_left[1]\n",
    "# cut_left[0]\n",
    "\n",
    "cut_right = cut_left.str.split(']').apply(pd.Series)\n",
    "cut_right = cut_right[0]\n",
    "# cut_right[0]\n",
    "\n",
    "split_in2 = cut_right.str.split(',').apply(pd.Series)\n",
    "#split_in2.columns\n",
    "\n",
    "latitude = split_in2[0].apply(float)\n",
    "longitude = split_in2[1].apply(float)\n",
    "\n",
    "df2['Tweet Latitude'] = latitude\n",
    "df2['Tweet Longitude'] = longitude\n",
    "\n",
    "\n",
    "# for tweets with no latitude and longitude, replace NaN with zeros\n",
    "\n",
    "df2['Tweet Latitude'].fillna(0, inplace=True)\n",
    "df2['Tweet Longitude'].fillna(0, inplace=True)"
   ]
  },
  {
   "cell_type": "code",
   "execution_count": 123,
   "metadata": {
    "collapsed": false
   },
   "outputs": [],
   "source": [
    "# convert Day and Time column (currently string) into datetime\n",
    "df2['Day and Time']= pd.to_datetime(df2['Day and Time'])\n",
    "\n",
    "# print(type(df2['Day and Time'][0]))\n",
    "# df2['Day and Time'][0]"
   ]
  },
  {
   "cell_type": "code",
   "execution_count": 124,
   "metadata": {
    "collapsed": true
   },
   "outputs": [],
   "source": [
    "del df2['Coordinates']\n",
    "del df2['Unnamed: 0']"
   ]
  },
  {
   "cell_type": "code",
   "execution_count": 125,
   "metadata": {
    "collapsed": false
   },
   "outputs": [
    {
     "data": {
      "text/plain": [
       "(417, 7)"
      ]
     },
     "execution_count": 125,
     "metadata": {},
     "output_type": "execute_result"
    }
   ],
   "source": [
    "df2.shape"
   ]
  },
  {
   "cell_type": "code",
   "execution_count": 126,
   "metadata": {
    "collapsed": false
   },
   "outputs": [
    {
     "data": {
      "text/html": [
       "<div>\n",
       "<table border=\"1\" class=\"dataframe\">\n",
       "  <thead>\n",
       "    <tr style=\"text-align: right;\">\n",
       "      <th></th>\n",
       "      <th>Community Area Mentioned</th>\n",
       "      <th>Day and Time</th>\n",
       "      <th>Number of Times Liked</th>\n",
       "      <th>Number of Times Retweeted</th>\n",
       "      <th>Tweet Content</th>\n",
       "      <th>Tweet Latitude</th>\n",
       "      <th>Tweet Longitude</th>\n",
       "    </tr>\n",
       "  </thead>\n",
       "  <tbody>\n",
       "    <tr>\n",
       "      <th>0</th>\n",
       "      <td>englewood</td>\n",
       "      <td>2016-03-12 06:44:37</td>\n",
       "      <td>0</td>\n",
       "      <td>0</td>\n",
       "      <td>😎 @ Chicago (Englewood neighborhood), Illinois...</td>\n",
       "      <td>-87.661160</td>\n",
       "      <td>41.787292</td>\n",
       "    </tr>\n",
       "    <tr>\n",
       "      <th>1</th>\n",
       "      <td>englewood</td>\n",
       "      <td>2016-03-11 21:44:27</td>\n",
       "      <td>0</td>\n",
       "      <td>0</td>\n",
       "      <td>🃏🃏🃏 #watchthekid @ Streets Of Englewood https:...</td>\n",
       "      <td>-87.645137</td>\n",
       "      <td>41.790944</td>\n",
       "    </tr>\n",
       "  </tbody>\n",
       "</table>\n",
       "</div>"
      ],
      "text/plain": [
       "  Community Area Mentioned        Day and Time  Number of Times Liked  \\\n",
       "0                englewood 2016-03-12 06:44:37                      0   \n",
       "1                englewood 2016-03-11 21:44:27                      0   \n",
       "\n",
       "   Number of Times Retweeted  \\\n",
       "0                          0   \n",
       "1                          0   \n",
       "\n",
       "                                       Tweet Content  Tweet Latitude  \\\n",
       "0  😎 @ Chicago (Englewood neighborhood), Illinois...      -87.661160   \n",
       "1  🃏🃏🃏 #watchthekid @ Streets Of Englewood https:...      -87.645137   \n",
       "\n",
       "   Tweet Longitude  \n",
       "0        41.787292  \n",
       "1        41.790944  "
      ]
     },
     "execution_count": 126,
     "metadata": {},
     "output_type": "execute_result"
    }
   ],
   "source": [
    "df1.head(2)"
   ]
  },
  {
   "cell_type": "code",
   "execution_count": 127,
   "metadata": {
    "collapsed": true
   },
   "outputs": [],
   "source": [
    "df2.to_csv('df2_cleaned.csv')"
   ]
  },
  {
   "cell_type": "markdown",
   "metadata": {},
   "source": [
    "<h4> Dataset 3: </h4>"
   ]
  },
  {
   "cell_type": "code",
   "execution_count": 158,
   "metadata": {
    "collapsed": false
   },
   "outputs": [
    {
     "data": {
      "text/plain": [
       "(1589, 7)"
      ]
     },
     "execution_count": 158,
     "metadata": {},
     "output_type": "execute_result"
    }
   ],
   "source": [
    "df3.shape"
   ]
  },
  {
   "cell_type": "code",
   "execution_count": 161,
   "metadata": {
    "collapsed": false
   },
   "outputs": [
    {
     "data": {
      "text/html": [
       "<div>\n",
       "<table border=\"1\" class=\"dataframe\">\n",
       "  <thead>\n",
       "    <tr style=\"text-align: right;\">\n",
       "      <th></th>\n",
       "      <th>Unnamed: 0</th>\n",
       "      <th>Community Area Mentioned</th>\n",
       "      <th>Coordinates</th>\n",
       "      <th>Day and Time</th>\n",
       "      <th>Number of Times Liked</th>\n",
       "      <th>Number of Times Retweeted</th>\n",
       "      <th>Tweet Content</th>\n",
       "    </tr>\n",
       "  </thead>\n",
       "  <tbody>\n",
       "    <tr>\n",
       "      <th>0</th>\n",
       "      <td>0</td>\n",
       "      <td>rogers park</td>\n",
       "      <td>{'coordinates': [-87.6662979, 42.0074272], 'ty...</td>\n",
       "      <td>2016-03-12 01:02:57</td>\n",
       "      <td>0</td>\n",
       "      <td>0</td>\n",
       "      <td>Hey, Donnie. Heard you bailed on your own part...</td>\n",
       "    </tr>\n",
       "    <tr>\n",
       "      <th>1</th>\n",
       "      <td>1</td>\n",
       "      <td>rogers park</td>\n",
       "      <td>{'coordinates': [-87.67733976, 42.01507579], '...</td>\n",
       "      <td>2016-03-12 00:41:15</td>\n",
       "      <td>1</td>\n",
       "      <td>0</td>\n",
       "      <td>Day 11 First Lady Friday: Go Michelle! #DePaul...</td>\n",
       "    </tr>\n",
       "  </tbody>\n",
       "</table>\n",
       "</div>"
      ],
      "text/plain": [
       "   Unnamed: 0 Community Area Mentioned  \\\n",
       "0           0              rogers park   \n",
       "1           1              rogers park   \n",
       "\n",
       "                                         Coordinates         Day and Time  \\\n",
       "0  {'coordinates': [-87.6662979, 42.0074272], 'ty...  2016-03-12 01:02:57   \n",
       "1  {'coordinates': [-87.67733976, 42.01507579], '...  2016-03-12 00:41:15   \n",
       "\n",
       "   Number of Times Liked  Number of Times Retweeted  \\\n",
       "0                      0                          0   \n",
       "1                      1                          0   \n",
       "\n",
       "                                       Tweet Content  \n",
       "0  Hey, Donnie. Heard you bailed on your own part...  \n",
       "1  Day 11 First Lady Friday: Go Michelle! #DePaul...  "
      ]
     },
     "execution_count": 161,
     "metadata": {},
     "output_type": "execute_result"
    }
   ],
   "source": [
    "df3.head(2)"
   ]
  },
  {
   "cell_type": "code",
   "execution_count": 162,
   "metadata": {
    "collapsed": true
   },
   "outputs": [],
   "source": [
    "# clean up coordinates column by extracting latitude and longitude:\n",
    "\n",
    "cut_left = df3['Coordinates'].str.split('[').apply(pd.Series)\n",
    "cut_left = cut_left[1]\n",
    "# cut_left[0]\n",
    "\n",
    "cut_right = cut_left.str.split(']').apply(pd.Series)\n",
    "cut_right = cut_right[0]\n",
    "# cut_right[0]\n",
    "\n",
    "split_in2 = cut_right.str.split(',').apply(pd.Series)\n",
    "#split_in2.columns\n",
    "\n",
    "latitude = split_in2[0].apply(float)\n",
    "longitude = split_in2[1].apply(float)\n",
    "\n",
    "df3['Tweet Latitude'] = latitude\n",
    "df3['Tweet Longitude'] = longitude"
   ]
  },
  {
   "cell_type": "code",
   "execution_count": 164,
   "metadata": {
    "collapsed": true
   },
   "outputs": [],
   "source": [
    "# convert Day and Time column (currently string) into datetime\n",
    "df3['Day and Time']= pd.to_datetime(df3['Day and Time'])\n",
    "# print(type(df3['Day and Time'][0]))\n",
    "# df3['Day and Time'][0]"
   ]
  },
  {
   "cell_type": "code",
   "execution_count": 166,
   "metadata": {
    "collapsed": false
   },
   "outputs": [],
   "source": [
    "del df3['Coordinates']\n",
    "del df3['Unnamed: 0']"
   ]
  },
  {
   "cell_type": "code",
   "execution_count": 167,
   "metadata": {
    "collapsed": false
   },
   "outputs": [
    {
     "data": {
      "text/plain": [
       "(1589, 7)"
      ]
     },
     "execution_count": 167,
     "metadata": {},
     "output_type": "execute_result"
    }
   ],
   "source": [
    "df3.shape"
   ]
  },
  {
   "cell_type": "code",
   "execution_count": 168,
   "metadata": {
    "collapsed": false
   },
   "outputs": [
    {
     "data": {
      "text/html": [
       "<div>\n",
       "<table border=\"1\" class=\"dataframe\">\n",
       "  <thead>\n",
       "    <tr style=\"text-align: right;\">\n",
       "      <th></th>\n",
       "      <th>Community Area Mentioned</th>\n",
       "      <th>Day and Time</th>\n",
       "      <th>Number of Times Liked</th>\n",
       "      <th>Number of Times Retweeted</th>\n",
       "      <th>Tweet Content</th>\n",
       "      <th>Tweet Latitude</th>\n",
       "      <th>Tweet Longitude</th>\n",
       "    </tr>\n",
       "  </thead>\n",
       "  <tbody>\n",
       "    <tr>\n",
       "      <th>0</th>\n",
       "      <td>rogers park</td>\n",
       "      <td>2016-03-12 01:02:57</td>\n",
       "      <td>0</td>\n",
       "      <td>0</td>\n",
       "      <td>Hey, Donnie. Heard you bailed on your own part...</td>\n",
       "      <td>-87.666298</td>\n",
       "      <td>42.007427</td>\n",
       "    </tr>\n",
       "    <tr>\n",
       "      <th>1</th>\n",
       "      <td>rogers park</td>\n",
       "      <td>2016-03-12 00:41:15</td>\n",
       "      <td>1</td>\n",
       "      <td>0</td>\n",
       "      <td>Day 11 First Lady Friday: Go Michelle! #DePaul...</td>\n",
       "      <td>-87.677340</td>\n",
       "      <td>42.015076</td>\n",
       "    </tr>\n",
       "  </tbody>\n",
       "</table>\n",
       "</div>"
      ],
      "text/plain": [
       "  Community Area Mentioned        Day and Time  Number of Times Liked  \\\n",
       "0              rogers park 2016-03-12 01:02:57                      0   \n",
       "1              rogers park 2016-03-12 00:41:15                      1   \n",
       "\n",
       "   Number of Times Retweeted  \\\n",
       "0                          0   \n",
       "1                          0   \n",
       "\n",
       "                                       Tweet Content  Tweet Latitude  \\\n",
       "0  Hey, Donnie. Heard you bailed on your own part...      -87.666298   \n",
       "1  Day 11 First Lady Friday: Go Michelle! #DePaul...      -87.677340   \n",
       "\n",
       "   Tweet Longitude  \n",
       "0        42.007427  \n",
       "1        42.015076  "
      ]
     },
     "execution_count": 168,
     "metadata": {},
     "output_type": "execute_result"
    }
   ],
   "source": [
    "df3.head(2)"
   ]
  },
  {
   "cell_type": "code",
   "execution_count": 169,
   "metadata": {
    "collapsed": true
   },
   "outputs": [],
   "source": [
    "df3.to_csv('df3_cleaned.csv')"
   ]
  },
  {
   "cell_type": "markdown",
   "metadata": {},
   "source": [
    "# Step 2: Do sentiment analysis of tweets\n",
    "\n",
    "I'm using VADER Sentiment Analysis (https://pypi.python.org/pypi/vaderSentiment/0.5) to apply a rule-based and lexical/dictionary approach to the sentiment analysis of the tweets I downloaded. VADER is sensitive to both the polarity  (positive/negative) and the intensity (on a scale from –4 to +4) of sentiments expressed in social media contexts. For example, the word \"okay\" has a positive valence of 0.9, \"good\" is 1.9, and \"great\" is 3.1, whereas \"horrible\" is –2.5, the frowning emoticon :( is –2.2, and \"sucks\" and it's slang derivative \"sux\" are both –1.5. "
   ]
  },
  {
   "cell_type": "code",
   "execution_count": 3,
   "metadata": {
    "collapsed": true
   },
   "outputs": [],
   "source": [
    "df1_cleaned = pd.read_csv('https://raw.githubusercontent.com/yarikan/final_project_in_progress/master/df1_cleaned.csv?token=AQAvwJLRV9FI5rVlSRBrds9V9dSTCI8lks5W7xhgwA%3D%3D')\n",
    "# df2_cleaned = pd.read_csv('https://raw.githubusercontent.com/yarikan/final_project_in_progress/master/df2_cleaned.csv?token=AQAvwJgTqkiyvo-qji8BW3OFzaI7rX1cks5W7xiUwA%3D%3D')\n",
    "# df3_cleaned = pd.read_csv('https://raw.githubusercontent.com/yarikan/final_project_in_progress/master/df3_cleaned.csv?token=AQAvwL5u8yzFj8WjqkWj-3D5BPZ9_TUFks5W7ximwA%3D%3D')"
   ]
  },
  {
   "cell_type": "code",
   "execution_count": 4,
   "metadata": {
    "collapsed": false
   },
   "outputs": [],
   "source": [
    "tweets = df1_cleaned['Tweet Content']\n",
    "# tweets"
   ]
  },
  {
   "cell_type": "code",
   "execution_count": 9,
   "metadata": {
    "collapsed": false
   },
   "outputs": [
    {
     "ename": "SyntaxError",
     "evalue": "invalid syntax (vaderSentiment.py, line 23)",
     "output_type": "error",
     "traceback": [
      "\u001b[0;36m  File \u001b[0;32m\"/Users/Yarikan/anaconda/lib/python3.5/site-packages/vaderSentiment/vaderSentiment.py\"\u001b[0;36m, line \u001b[0;32m23\u001b[0m\n\u001b[0;31m    return dict(map(lambda (w, m): (w, float(m)), [wmsr.strip().split('\\t')[0:2] for wmsr in open(f) ]))\u001b[0m\n\u001b[0m                           ^\u001b[0m\n\u001b[0;31mSyntaxError\u001b[0m\u001b[0;31m:\u001b[0m invalid syntax\n"
     ]
    }
   ],
   "source": [
    "from vaderSentiment.vaderSentiment import sentiment"
   ]
  },
  {
   "cell_type": "code",
   "execution_count": 6,
   "metadata": {
    "collapsed": false
   },
   "outputs": [
    {
     "name": "stdout",
     "output_type": "stream",
     "text": [
      "😎 @ Chicago (Englewood neighborhood), Illinois https://t.co/LJ5J0yp5zd\n"
     ]
    },
    {
     "ename": "AttributeError",
     "evalue": "module 'vaderSentiment' has no attribute 'vaderSentiment'",
     "output_type": "error",
     "traceback": [
      "\u001b[0;31m---------------------------------------------------------------------------\u001b[0m",
      "\u001b[0;31mAttributeError\u001b[0m                            Traceback (most recent call last)",
      "\u001b[0;32m<ipython-input-6-cb09834163be>\u001b[0m in \u001b[0;36m<module>\u001b[0;34m()\u001b[0m\n\u001b[1;32m      1\u001b[0m \u001b[0;32mfor\u001b[0m \u001b[0mtweet\u001b[0m \u001b[0;32min\u001b[0m \u001b[0mtweets\u001b[0m\u001b[0;34m:\u001b[0m\u001b[0;34m\u001b[0m\u001b[0m\n\u001b[1;32m      2\u001b[0m     \u001b[0mprint\u001b[0m\u001b[0;34m(\u001b[0m\u001b[0mtweet\u001b[0m\u001b[0;34m)\u001b[0m\u001b[0;34m\u001b[0m\u001b[0m\n\u001b[0;32m----> 3\u001b[0;31m     \u001b[0mvs\u001b[0m \u001b[0;34m=\u001b[0m \u001b[0mvaderSentiment\u001b[0m\u001b[0;34m.\u001b[0m\u001b[0mvaderSentiment\u001b[0m\u001b[0;34m(\u001b[0m\u001b[0mtweet\u001b[0m\u001b[0;34m)\u001b[0m\u001b[0;34m\u001b[0m\u001b[0m\n\u001b[0m\u001b[1;32m      4\u001b[0m     \u001b[0mprint\u001b[0m\u001b[0;34m(\u001b[0m\u001b[0;34m\"\\n\\t\"\u001b[0m \u001b[0;34m+\u001b[0m \u001b[0mstr\u001b[0m\u001b[0;34m(\u001b[0m\u001b[0mvs\u001b[0m\u001b[0;34m)\u001b[0m\u001b[0;34m)\u001b[0m\u001b[0;34m\u001b[0m\u001b[0m\n",
      "\u001b[0;31mAttributeError\u001b[0m: module 'vaderSentiment' has no attribute 'vaderSentiment'"
     ]
    }
   ],
   "source": [
    "for tweet in tweets:\n",
    "    print(tweet)\n",
    "    vs = vaderSentiment.vaderSentiment(tweet)\n",
    "    print(\"\\n\\t\" + str(vs))"
   ]
  },
  {
   "cell_type": "markdown",
   "metadata": {
    "collapsed": true
   },
   "source": [
    "# Step 3: Show and tell\n",
    "for mapping, consider also using plotli, (chloprograph?)"
   ]
  },
  {
   "cell_type": "code",
   "execution_count": null,
   "metadata": {
    "collapsed": true
   },
   "outputs": [],
   "source": []
  },
  {
   "cell_type": "markdown",
   "metadata": {},
   "source": [
    "# Turning it in\n",
    "\n",
    "You will demonstrate your project on March 18 between 6–8pm, and also include all code within the final_project folder (two or more scripts) in your GitHub repository. Please also include a file called README.txt or README.md that describes how to run your project, including any setup scripts that download data, etc. Finally, if you make any large data files in the course of running your website, please use a .gitignore file to exclude these from the repository."
   ]
  }
 ],
 "metadata": {
  "kernelspec": {
   "display_name": "Python 3",
   "language": "python",
   "name": "python3"
  },
  "language_info": {
   "codemirror_mode": {
    "name": "ipython",
    "version": 3
   },
   "file_extension": ".py",
   "mimetype": "text/x-python",
   "name": "python",
   "nbconvert_exporter": "python",
   "pygments_lexer": "ipython3",
   "version": "3.5.1"
  }
 },
 "nbformat": 4,
 "nbformat_minor": 0
}
