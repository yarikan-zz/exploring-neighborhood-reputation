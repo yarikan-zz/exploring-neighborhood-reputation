{
 "metadata": {
  "name": "",
  "signature": "sha256:e30182d38909d7d5cf709080c661b89c097eaf9412200fe15a4e61ccb0154e95"
 },
 "nbformat": 3,
 "nbformat_minor": 0,
 "worksheets": [
  {
   "cells": [
    {
     "cell_type": "markdown",
     "metadata": {},
     "source": [
      "# Step 2: Do sentiment analysis of tweets in python 2.7\n",
      "save the results as csv outputs and continue with those in python 3 notebook for this project"
     ]
    },
    {
     "cell_type": "code",
     "collapsed": false,
     "input": [
      "import pandas as pd\n",
      "import vaderSentiment"
     ],
     "language": "python",
     "metadata": {},
     "outputs": [],
     "prompt_number": 1
    },
    {
     "cell_type": "code",
     "collapsed": false,
     "input": [
      "from vaderSentiment.vaderSentiment import sentiment as vaderSentiment"
     ],
     "language": "python",
     "metadata": {},
     "outputs": [],
     "prompt_number": 2
    },
    {
     "cell_type": "code",
     "collapsed": false,
     "input": [
      "df1 = pd.read_csv('https://raw.githubusercontent.com/yarikan/assignments/master/Final_Project/df1_ready_for_sentimentAnalysis.csv?token=AQAvwE_LvAq30SjiMvOv6deIWWcr8gdiks5W9IMUwA%3D%3D')\n",
      "df2 = pd.read_csv('https://raw.githubusercontent.com/yarikan/assignments/master/Final_Project/df2_ready_for_sentimentAnalysis.csv?token=AQAvwHC84L3BEUoqZxuJXjBq_wPicjXJks5W9INmwA%3D%3D')\n",
      "df3 = pd.read_csv('https://raw.githubusercontent.com/yarikan/assignments/master/Final_Project/df3_ready_for_sentimentAnalysis.csv?token=AQAvwBQHKpjN0DHTGJAdJ1DgIE81xhhtks5W9IbRwA%3D%3D')"
     ],
     "language": "python",
     "metadata": {},
     "outputs": [],
     "prompt_number": 14
    },
    {
     "cell_type": "code",
     "collapsed": false,
     "input": [
      "df1.columns"
     ],
     "language": "python",
     "metadata": {},
     "outputs": [
      {
       "metadata": {},
       "output_type": "pyout",
       "prompt_number": 15,
       "text": [
        "Index([u'Unnamed: 0', u'Unnamed: 0.1', u'Community Area Mentioned', u'Coordinates', u'Day and Time', u'Number of Times Liked', u'Number of Times Retweeted', u'Tweet Content', u'Latitude', u'Longitude', u'Date'], dtype='object')"
       ]
      }
     ],
     "prompt_number": 15
    },
    {
     "cell_type": "code",
     "collapsed": false,
     "input": [
      "# apply vaderSentiment to each tweet, and save the resulting sentiment scores as a new column\n",
      "df1[\"Sentiment\"] = df1['Tweet Content'].apply(lambda tweet: vaderSentiment(tweet))"
     ],
     "language": "python",
     "metadata": {},
     "outputs": [],
     "prompt_number": 16
    },
    {
     "cell_type": "code",
     "collapsed": false,
     "input": [
      "df2['Tweet Content'] = df2['Tweet Content'].apply(str)\n",
      "df2[\"Sentiment\"] = df2['Tweet Content'].apply(lambda tweet: vaderSentiment(tweet))"
     ],
     "language": "python",
     "metadata": {},
     "outputs": [],
     "prompt_number": 17
    },
    {
     "cell_type": "code",
     "collapsed": false,
     "input": [
      "df3[\"Sentiment\"] = df3['Tweet Content'].apply(lambda tweet: vaderSentiment(tweet))"
     ],
     "language": "python",
     "metadata": {},
     "outputs": [],
     "prompt_number": 18
    },
    {
     "cell_type": "code",
     "collapsed": false,
     "input": [
      "df1.Sentiment[0]"
     ],
     "language": "python",
     "metadata": {},
     "outputs": [
      {
       "metadata": {},
       "output_type": "pyout",
       "prompt_number": 20,
       "text": [
        "{'compound': 0.4939, 'neg': 0.0, 'neu': 0.856, 'pos': 0.144}"
       ]
      }
     ],
     "prompt_number": 20
    },
    {
     "cell_type": "code",
     "collapsed": false,
     "input": [
      "df2.Sentiment[0]"
     ],
     "language": "python",
     "metadata": {},
     "outputs": [
      {
       "metadata": {},
       "output_type": "pyout",
       "prompt_number": 21,
       "text": [
        "{'compound': 0.6369, 'neg': 0.0, 'neu': 0.84, 'pos': 0.16}"
       ]
      }
     ],
     "prompt_number": 21
    },
    {
     "cell_type": "code",
     "collapsed": false,
     "input": [
      "df3.Sentiment[0]"
     ],
     "language": "python",
     "metadata": {},
     "outputs": [
      {
       "metadata": {},
       "output_type": "pyout",
       "prompt_number": 22,
       "text": [
        "{'compound': 0.0, 'neg': 0.0, 'neu': 1.0, 'pos': 0.0}"
       ]
      }
     ],
     "prompt_number": 22
    },
    {
     "cell_type": "code",
     "collapsed": false,
     "input": [
      "df1.columns"
     ],
     "language": "python",
     "metadata": {},
     "outputs": [
      {
       "metadata": {},
       "output_type": "pyout",
       "prompt_number": 23,
       "text": [
        "Index([u'Unnamed: 0', u'Unnamed: 0.1', u'Community Area Mentioned', u'Coordinates', u'Day and Time', u'Number of Times Liked', u'Number of Times Retweeted', u'Tweet Content', u'Latitude', u'Longitude', u'Date', u'Sentiment'], dtype='object')"
       ]
      }
     ],
     "prompt_number": 23
    },
    {
     "cell_type": "code",
     "collapsed": false,
     "input": [
      "df1.to_csv('df1_wSentiment.csv')\n",
      "df2.to_csv('df2_wSentiment.csv')\n",
      "df3.to_csv('df3_wSentiment.csv')"
     ],
     "language": "python",
     "metadata": {},
     "outputs": [],
     "prompt_number": 24
    },
    {
     "cell_type": "code",
     "collapsed": false,
     "input": [],
     "language": "python",
     "metadata": {},
     "outputs": []
    }
   ],
   "metadata": {}
  }
 ]
}