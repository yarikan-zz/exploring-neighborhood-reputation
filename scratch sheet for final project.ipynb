{
 "cells": [
  {
   "cell_type": "code",
   "execution_count": null,
   "metadata": {
    "collapsed": true
   },
   "outputs": [],
   "source": [
    "from collections import Counter \n",
    "Counter(primary_type).most_common()\n",
    "# count the numbers of times each type of violation occurs among cases that did result in an arrest"
   ]
  },
  {
   "cell_type": "code",
   "execution_count": null,
   "metadata": {
    "collapsed": true
   },
   "outputs": [],
   "source": [
    "# import csv file with community areas and their associated socioeconomic data\n",
    "df_SES = pd.read_csv('https://raw.githubusercontent.com/yarikan/final_project_in_progress/master/Census_Data_-_Selected_socioeconomic_indicators_in_Chicago__2008___2012.csv?token=AQAvwKru9f-jT5DdlHHIx3sA0zKfj9cFks5W6IcxwA%3D%3D')\n",
    "SES = df_SES.dropna()\n",
    "# SES\n",
    "# SES.columns\n",
    "# SES['COMMUNITY AREA NAME']"
   ]
  },
  {
   "cell_type": "markdown",
   "metadata": {},
   "source": [
    "using the REST API allows you to search a sample of past tweets. See the python script tweepy_example.py that you can use to build some functions that harvest tweets. For the REST (search) API, using the tweepy Cursor function, you can invoke a search for relevant terms and receive the results of that selective search for tweets. You can delimit the search by time, place, tweeter, etc., in addition to terms."
   ]
  },
  {
   "cell_type": "code",
   "execution_count": null,
   "metadata": {
    "collapsed": true
   },
   "outputs": [],
   "source": [
    "def limit_handled(cursor):\n",
    "    while True:\n",
    "        try:\n",
    "            yield cursor.next()\n",
    "        except tweepy.RateLimitError:\n",
    "            time.sleep(15 * 60)  \n",
    "            # because 180 Requests / 15-min window (user auth), per https://dev.twitter.com/rest/public/rate-limits"
   ]
  },
  {
   "cell_type": "code",
   "execution_count": null,
   "metadata": {
    "collapsed": true
   },
   "outputs": [],
   "source": [
    "<br>\n",
    "Drawing on: \n",
    "\n",
    "Bollen, Johan, Huina Mao, and Alberto Pepe. \"Modeling public mood and emotion: Twitter sentiment and socio-economic phenomena.\" ICWSM 11 (2011): 450-453. http://www.aaai.org/ocs/index.php/ICWSM/ICWSM11/paper/viewFile/2826/3237\n",
    "\n",
    "Chew, Cynthia, and Gunther Eysenbach. \"Pandemics in the age of Twitter: content analysis of Tweets during the 2009 H1N1 outbreak.\" PloS one 5.11 (2010): e14118. http://journals.plos.org/plosone/article?id=10.1371/journal.pone.0014118\n",
    "\n",
    "Theaster Gates' work\n",
    "\n",
    "Steps for twitter content exlorer: http://cfss.uchicago.edu/twitter_final.html"
   ]
  },
  {
   "cell_type": "code",
   "execution_count": null,
   "metadata": {
    "collapsed": true
   },
   "outputs": [],
   "source": [
    "DOWNLOAD OTHER DATA from city of Chicago data portal.\n",
    "\n",
    "    Census data by community area\n",
    "    Crime or 311 call data\n",
    "    Chicago Park District - Event Permits \n",
    "\n",
    "<br>\n",
    "DO DESCRIPTIVE STATISTCS ON TWEETS.\n",
    "DO SENTIMENT ANALYSIS OF TWEETS.\n",
    "    \n",
    "    Distribution/concentration of tweets in terms of\n",
    "        geography\n",
    "        time\n",
    "\n",
    "    Proportion of tweets expressing various types of emotions within the time period studied.\n",
    "\n",
    "    How does it vary by:\n",
    "        community area, census tract, block\n",
    "        time of day, day of week, month\n",
    "\n",
    "<br>\n",
    "PRESENT THE RESULTS.\n",
    "\n",
    "    Either in plots/maps, \n",
    "    or in an interactive form for example as a web application."
   ]
  },
  {
   "cell_type": "code",
   "execution_count": null,
   "metadata": {
    "collapsed": true
   },
   "outputs": [],
   "source": [
    "# starting from year 2006(?)\n",
    "# for name in SES['COMMUNITY AREA NAME']:\n",
    "    # use it in a search for tweets in English in or within 15 miles of Chicago\n",
    "        # and for every such tweet found do these:\n",
    "            # append the created_at data to the date_time list\n",
    "            # append the coordinates data to the coordinates list\n",
    "            # append the retweet_count to the num_retweet list\n",
    "            # append the favorite_count to the num_liked list\n",
    "            # append the text to the tweet_content list\n",
    "\n",
    "# then dump each list into a MySQL database\n",
    "\n",
    "\n",
    "\n",
    "# scenario for doing all community areas:\n",
    "\n",
    "for name in SES['COMMUNITY AREA NAME']:\n",
    "    name.lower()\n",
    "    for tweet in tweepy.Cursor(api.search, \n",
    "                           q=name.lower(), \n",
    "                           rpp=100, \n",
    "                           geocode = \"41.836944,-87.684722,15mi\", \n",
    "                           lang=\"en\").items():\n",
    "    date_time.append(tweet.created_at)\n",
    "    coordinates.append(tweet.coordinates)\n",
    "    num_retweet.append(tweet.retweet_count)\n",
    "    num_liked.append(tweet.favorite_count)\n",
    "    tweet_content.append(tweet.text)"
   ]
  }
 ],
 "metadata": {
  "kernelspec": {
   "display_name": "Python 3",
   "language": "python",
   "name": "python3"
  },
  "language_info": {
   "codemirror_mode": {
    "name": "ipython",
    "version": 3
   },
   "file_extension": ".py",
   "mimetype": "text/x-python",
   "name": "python",
   "nbconvert_exporter": "python",
   "pygments_lexer": "ipython3",
   "version": "3.5.1"
  }
 },
 "nbformat": 4,
 "nbformat_minor": 0
}
