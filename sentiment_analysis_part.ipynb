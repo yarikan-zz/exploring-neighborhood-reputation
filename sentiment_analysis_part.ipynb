{
 "metadata": {
  "name": "",
  "signature": "sha256:f9df648d1e0bce2c235a69444138a576439d17e7710975b9dea905f70f1f26c0"
 },
 "nbformat": 3,
 "nbformat_minor": 0,
 "worksheets": [
  {
   "cells": [
    {
     "cell_type": "markdown",
     "metadata": {},
     "source": [
      "# Step 2: Do sentiment analysis of tweets in python 2.7\n",
      "\n",
      "I'm using VADER Sentiment Analysis (https://pypi.python.org/pypi/vaderSentiment/0.5) to apply a rule-based and lexical/dictionary approach to the sentiment analysis of the tweets I downloaded. VADER is sensitive to both the polarity (positive/negative) and the intensity (on a scale from \u20134 to +4) of sentiments expressed in social media contexts. For example, the word \"okay\" has a positive valence of 0.9, \"good\" is 1.9, and \"great\" is 3.1, whereas \"horrible\" is \u20132.5, the frowning emoticon :( is \u20132.2, and \"sucks\" and it's slang derivative \"sux\" are both \u20131.5.\n",
      "\n",
      "The rationale for doing this part in python 2.7 rather than 3 is because calling the sentiment function wasn't working for me in python 3. To make it work I would have had to debug the original code, which isn't in the scope of my project."
     ]
    },
    {
     "cell_type": "code",
     "collapsed": false,
     "input": [
      "import pandas as pd\n",
      "import vaderSentiment"
     ],
     "language": "python",
     "metadata": {},
     "outputs": [],
     "prompt_number": 1
    },
    {
     "cell_type": "code",
     "collapsed": false,
     "input": [
      "from vaderSentiment.vaderSentiment import sentiment as vaderSentiment"
     ],
     "language": "python",
     "metadata": {},
     "outputs": [],
     "prompt_number": 2
    },
    {
     "cell_type": "code",
     "collapsed": false,
     "input": [
      "df1_cleaned = pd.read_csv('https://raw.githubusercontent.com/yarikan/final_project_in_progress/master/df1_cleaned.csv?token=AQAvwJLRV9FI5rVlSRBrds9V9dSTCI8lks5W7xhgwA%3D%3D')\n",
      "df2_cleaned = pd.read_csv('https://raw.githubusercontent.com/yarikan/final_project_in_progress/master/df2_cleaned.csv?token=AQAvwJgTqkiyvo-qji8BW3OFzaI7rX1cks5W7xiUwA%3D%3D')\n",
      "df3_cleaned = pd.read_csv('https://raw.githubusercontent.com/yarikan/final_project_in_progress/master/df3_cleaned.csv?token=AQAvwL5u8yzFj8WjqkWj-3D5BPZ9_TUFks5W7ximwA%3D%3D')"
     ],
     "language": "python",
     "metadata": {},
     "outputs": [],
     "prompt_number": 72
    },
    {
     "cell_type": "code",
     "collapsed": false,
     "input": [
      "df1_cleaned.columns"
     ],
     "language": "python",
     "metadata": {},
     "outputs": [
      {
       "metadata": {},
       "output_type": "pyout",
       "prompt_number": 73,
       "text": [
        "Index([u'Unnamed: 0', u'Community Area Mentioned', u'Day and Time', u'Number of Times Liked', u'Number of Times Retweeted', u'Tweet Content', u'Tweet Latitude', u'Tweet Longitude'], dtype='object')"
       ]
      }
     ],
     "prompt_number": 73
    },
    {
     "cell_type": "code",
     "collapsed": false,
     "input": [
      "# apply vaderSentiment to each tweet, and save the resulting sentiment scores as a new column\n",
      "df1_cleaned[\"sentiment\"] = df1_cleaned['Tweet Content'].apply(lambda tweet: vaderSentiment(tweet))"
     ],
     "language": "python",
     "metadata": {},
     "outputs": [],
     "prompt_number": 74
    },
    {
     "cell_type": "code",
     "collapsed": false,
     "input": [
      "df2_cleaned['Tweet Content'] = df2_cleaned['Tweet Content'].apply(str)"
     ],
     "language": "python",
     "metadata": {},
     "outputs": [],
     "prompt_number": 75
    },
    {
     "cell_type": "code",
     "collapsed": false,
     "input": [
      "df2_cleaned[\"sentiment\"] = df2_cleaned['Tweet Content'].apply(lambda tweet: vaderSentiment(tweet))"
     ],
     "language": "python",
     "metadata": {},
     "outputs": [],
     "prompt_number": 76
    },
    {
     "cell_type": "code",
     "collapsed": false,
     "input": [
      "df3_cleaned[\"sentiment\"] = df3_cleaned['Tweet Content'].apply(lambda tweet: vaderSentiment(tweet))"
     ],
     "language": "python",
     "metadata": {},
     "outputs": [],
     "prompt_number": 77
    },
    {
     "cell_type": "code",
     "collapsed": false,
     "input": [
      "df1_cleaned.sentiment[0]"
     ],
     "language": "python",
     "metadata": {},
     "outputs": [
      {
       "metadata": {},
       "output_type": "pyout",
       "prompt_number": 78,
       "text": [
        "{'compound': 0.0, 'neg': 0.0, 'neu': 1.0, 'pos': 0.0}"
       ]
      }
     ],
     "prompt_number": 78
    },
    {
     "cell_type": "code",
     "collapsed": false,
     "input": [
      "df2_cleaned.sentiment[0]"
     ],
     "language": "python",
     "metadata": {},
     "outputs": [
      {
       "metadata": {},
       "output_type": "pyout",
       "prompt_number": 79,
       "text": [
        "{'compound': -0.765, 'neg': 0.398, 'neu': 0.602, 'pos': 0.0}"
       ]
      }
     ],
     "prompt_number": 79
    },
    {
     "cell_type": "code",
     "collapsed": false,
     "input": [
      "df3_cleaned.sentiment[0]"
     ],
     "language": "python",
     "metadata": {},
     "outputs": [
      {
       "metadata": {},
       "output_type": "pyout",
       "prompt_number": 80,
       "text": [
        "{'compound': 0.7096, 'neg': 0.0, 'neu': 0.731, 'pos': 0.269}"
       ]
      }
     ],
     "prompt_number": 80
    },
    {
     "cell_type": "code",
     "collapsed": false,
     "input": [
      "del df1_cleaned['Unnamed: 0']\n",
      "del df2_cleaned['Unnamed: 0']\n",
      "del df3_cleaned['Unnamed: 0']"
     ],
     "language": "python",
     "metadata": {},
     "outputs": [],
     "prompt_number": 81
    },
    {
     "cell_type": "code",
     "collapsed": false,
     "input": [
      "df1_cleaned.columns"
     ],
     "language": "python",
     "metadata": {},
     "outputs": [
      {
       "metadata": {},
       "output_type": "pyout",
       "prompt_number": 82,
       "text": [
        "Index([u'Community Area Mentioned', u'Day and Time', u'Number of Times Liked', u'Number of Times Retweeted', u'Tweet Content', u'Tweet Latitude', u'Tweet Longitude', u'sentiment'], dtype='object')"
       ]
      }
     ],
     "prompt_number": 82
    },
    {
     "cell_type": "code",
     "collapsed": false,
     "input": [
      "df1_cleaned.to_csv('df1_wSentiment.csv')\n",
      "df2_cleaned.to_csv('df2_wSentiment.csv')\n",
      "df3_cleaned.to_csv('df3_wSentiment.csv')"
     ],
     "language": "python",
     "metadata": {},
     "outputs": [],
     "prompt_number": 83
    },
    {
     "cell_type": "code",
     "collapsed": false,
     "input": [],
     "language": "python",
     "metadata": {},
     "outputs": []
    }
   ],
   "metadata": {}
  }
 ]
}